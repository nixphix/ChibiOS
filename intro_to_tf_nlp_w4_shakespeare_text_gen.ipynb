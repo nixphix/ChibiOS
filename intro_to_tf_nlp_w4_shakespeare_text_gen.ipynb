{
  "nbformat": 4,
  "nbformat_minor": 0,
  "metadata": {
    "colab": {
      "name": "intro_to_tf/nlp_w4_shakespeare_text_gen.ipynb",
      "provenance": [],
      "collapsed_sections": [],
      "authorship_tag": "ABX9TyPaW+FT4ZhdHU0/2jz0Fqyd",
      "include_colab_link": true
    },
    "kernelspec": {
      "name": "python3",
      "display_name": "Python 3"
    },
    "accelerator": "GPU"
  },
  "cells": [
    {
      "cell_type": "markdown",
      "metadata": {
        "id": "view-in-github",
        "colab_type": "text"
      },
      "source": [
        "<a href=\"https://colab.research.google.com/github/nixphix/ChibiOS/blob/master/intro_to_tf_nlp_w4_shakespeare_text_gen.ipynb\" target=\"_parent\"><img src=\"https://colab.research.google.com/assets/colab-badge.svg\" alt=\"Open In Colab\"/></a>"
      ]
    },
    {
      "cell_type": "code",
      "metadata": {
        "id": "5SxdgWYoN8ug",
        "colab_type": "code",
        "colab": {}
      },
      "source": [
        "import numpy as np\n",
        "\n",
        "import tensorflow as tf\n",
        "import tensorflow.keras as k"
      ],
      "execution_count": 1,
      "outputs": []
    },
    {
      "cell_type": "code",
      "metadata": {
        "id": "LI8x7iFzNsP6",
        "colab_type": "code",
        "colab": {
          "base_uri": "https://localhost:8080/",
          "height": 51
        },
        "outputId": "89445265-db8e-4c2e-c470-a4219b0804b7"
      },
      "source": [
        "path_to_file = k.utils.get_file('shakespeare.txt', 'https://storage.googleapis.com/download.tensorflow.org/data/shakespeare.txt')"
      ],
      "execution_count": 2,
      "outputs": [
        {
          "output_type": "stream",
          "text": [
            "Downloading data from https://storage.googleapis.com/download.tensorflow.org/data/shakespeare.txt\n",
            "1122304/1115394 [==============================] - 0s 0us/step\n"
          ],
          "name": "stdout"
        }
      ]
    },
    {
      "cell_type": "code",
      "metadata": {
        "id": "BezSuSLTOzlK",
        "colab_type": "code",
        "colab": {
          "base_uri": "https://localhost:8080/",
          "height": 35
        },
        "outputId": "14eaee45-3c83-4bce-d754-35efd6d7b7fe"
      },
      "source": [
        "path_to_file"
      ],
      "execution_count": 3,
      "outputs": [
        {
          "output_type": "execute_result",
          "data": {
            "application/vnd.google.colaboratory.intrinsic+json": {
              "type": "string"
            },
            "text/plain": [
              "'/root/.keras/datasets/shakespeare.txt'"
            ]
          },
          "metadata": {
            "tags": []
          },
          "execution_count": 3
        }
      ]
    },
    {
      "cell_type": "code",
      "metadata": {
        "id": "QySkdSCROO-4",
        "colab_type": "code",
        "colab": {
          "base_uri": "https://localhost:8080/",
          "height": 153
        },
        "outputId": "2dd1bccf-12dd-482f-9c00-42b2e7e78848"
      },
      "source": [
        "corpus = open(path_to_file).read()\n",
        "print(corpus[:100])"
      ],
      "execution_count": 4,
      "outputs": [
        {
          "output_type": "stream",
          "text": [
            "First Citizen:\n",
            "Before we proceed any further, hear me speak.\n",
            "\n",
            "All:\n",
            "Speak, speak.\n",
            "\n",
            "First Citizen:\n",
            "You\n"
          ],
          "name": "stdout"
        }
      ]
    },
    {
      "cell_type": "code",
      "metadata": {
        "id": "YXkolm7jO6NB",
        "colab_type": "code",
        "colab": {
          "base_uri": "https://localhost:8080/",
          "height": 85
        },
        "outputId": "adc1513d-e8af-4802-9994-cab8d30bb057"
      },
      "source": [
        "# get unique chars list\n",
        "all_chars = np.array(sorted(list(set(corpus))))\n",
        "print(f\"Length of corpus: {len(corpus)}\")\n",
        "print(f\"Char size: {len(all_chars)}\")\n",
        "print(f\"Some chars are: {all_chars[:20]}\")"
      ],
      "execution_count": 5,
      "outputs": [
        {
          "output_type": "stream",
          "text": [
            "Length of corpus: 1115394\n",
            "Char size: 65\n",
            "Some chars are: ['\\n' ' ' '!' '$' '&' \"'\" ',' '-' '.' '3' ':' ';' '?' 'A' 'B' 'C' 'D' 'E'\n",
            " 'F' 'G']\n"
          ],
          "name": "stdout"
        }
      ]
    },
    {
      "cell_type": "code",
      "metadata": {
        "id": "3hKCStRNPWdQ",
        "colab_type": "code",
        "colab": {
          "base_uri": "https://localhost:8080/",
          "height": 122
        },
        "outputId": "dd78a1db-0bf6-4716-9be6-c90073c7fbca"
      },
      "source": [
        "# create indexes\n",
        "char2idx = {c:idx for idx, c in enumerate(all_chars)}\n",
        "idx2char = np.array([c for c, idx in char2idx.items()])\n",
        "print(f\"Char2Idx: {char2idx}\")\n",
        "print(f\"Idx2Char: {idx2char}\")"
      ],
      "execution_count": 6,
      "outputs": [
        {
          "output_type": "stream",
          "text": [
            "Char2Idx: {'\\n': 0, ' ': 1, '!': 2, '$': 3, '&': 4, \"'\": 5, ',': 6, '-': 7, '.': 8, '3': 9, ':': 10, ';': 11, '?': 12, 'A': 13, 'B': 14, 'C': 15, 'D': 16, 'E': 17, 'F': 18, 'G': 19, 'H': 20, 'I': 21, 'J': 22, 'K': 23, 'L': 24, 'M': 25, 'N': 26, 'O': 27, 'P': 28, 'Q': 29, 'R': 30, 'S': 31, 'T': 32, 'U': 33, 'V': 34, 'W': 35, 'X': 36, 'Y': 37, 'Z': 38, 'a': 39, 'b': 40, 'c': 41, 'd': 42, 'e': 43, 'f': 44, 'g': 45, 'h': 46, 'i': 47, 'j': 48, 'k': 49, 'l': 50, 'm': 51, 'n': 52, 'o': 53, 'p': 54, 'q': 55, 'r': 56, 's': 57, 't': 58, 'u': 59, 'v': 60, 'w': 61, 'x': 62, 'y': 63, 'z': 64}\n",
            "Idx2Char: ['\\n' ' ' '!' '$' '&' \"'\" ',' '-' '.' '3' ':' ';' '?' 'A' 'B' 'C' 'D' 'E'\n",
            " 'F' 'G' 'H' 'I' 'J' 'K' 'L' 'M' 'N' 'O' 'P' 'Q' 'R' 'S' 'T' 'U' 'V' 'W'\n",
            " 'X' 'Y' 'Z' 'a' 'b' 'c' 'd' 'e' 'f' 'g' 'h' 'i' 'j' 'k' 'l' 'm' 'n' 'o'\n",
            " 'p' 'q' 'r' 's' 't' 'u' 'v' 'w' 'x' 'y' 'z']\n"
          ],
          "name": "stdout"
        }
      ]
    },
    {
      "cell_type": "code",
      "metadata": {
        "id": "pbZmXBNsPW3N",
        "colab_type": "code",
        "colab": {
          "base_uri": "https://localhost:8080/",
          "height": 170
        },
        "outputId": "0eee5118-2774-4a4c-d1bf-0aa74cf9ec51"
      },
      "source": [
        "# encode corpus into int, show index for first few words\n",
        "encoded_corpus = np.array([char2idx[c] for c in corpus], dtype=np.uint8)\n",
        "print(f\"First 30 char\\n\\nCorpus:\\n{corpus[:30]}\\n\\nEncoded Corpus:\\n{encoded_corpus[:30]}\")"
      ],
      "execution_count": 7,
      "outputs": [
        {
          "output_type": "stream",
          "text": [
            "First 30 char\n",
            "\n",
            "Corpus:\n",
            "First Citizen:\n",
            "Before we proce\n",
            "\n",
            "Encoded Corpus:\n",
            "[18 47 56 57 58  1 15 47 58 47 64 43 52 10  0 14 43 44 53 56 43  1 61 43\n",
            "  1 54 56 53 41 43]\n"
          ],
          "name": "stdout"
        }
      ]
    },
    {
      "cell_type": "code",
      "metadata": {
        "id": "RCIRQmqqPXSu",
        "colab_type": "code",
        "colab": {
          "base_uri": "https://localhost:8080/",
          "height": 102
        },
        "outputId": "4fdf78f4-593d-4b49-c01a-bd2443032d8a"
      },
      "source": [
        "# create a tf data set and take 5 and print\n",
        "dataset = tf.data.Dataset.from_tensor_slices(encoded_corpus)\n",
        "for data in dataset.take(5):\n",
        "    print(idx2char[data.numpy()])"
      ],
      "execution_count": 8,
      "outputs": [
        {
          "output_type": "stream",
          "text": [
            "F\n",
            "i\n",
            "r\n",
            "s\n",
            "t\n"
          ],
          "name": "stdout"
        }
      ]
    },
    {
      "cell_type": "code",
      "metadata": {
        "id": "RNMRWuN7PXf-",
        "colab_type": "code",
        "colab": {
          "base_uri": "https://localhost:8080/",
          "height": 153
        },
        "outputId": "789bf5fd-73a4-4517-f58b-26db8b2fd564"
      },
      "source": [
        "# batch the dataset into sequence\n",
        "TRAIN_SEQ_LEN = 100\n",
        "sequence = dataset.batch(TRAIN_SEQ_LEN + 1, drop_remainder=True)\n",
        "print(f\"Number of sequences: {len(sequence)}\")\n",
        "for item in sequence.take(1):\n",
        "    print(f\"Number Sequence: {item.numpy()}\")\n",
        "    print(f\"Char Sequence:\\n\", repr(\"\".join(list(idx2char[item.numpy()]))))"
      ],
      "execution_count": 9,
      "outputs": [
        {
          "output_type": "stream",
          "text": [
            "Number of sequences: 11043\n",
            "Number Sequence: [18 47 56 57 58  1 15 47 58 47 64 43 52 10  0 14 43 44 53 56 43  1 61 43\n",
            "  1 54 56 53 41 43 43 42  1 39 52 63  1 44 59 56 58 46 43 56  6  1 46 43\n",
            " 39 56  1 51 43  1 57 54 43 39 49  8  0  0 13 50 50 10  0 31 54 43 39 49\n",
            "  6  1 57 54 43 39 49  8  0  0 18 47 56 57 58  1 15 47 58 47 64 43 52 10\n",
            "  0 37 53 59  1]\n",
            "Char Sequence:\n",
            " 'First Citizen:\\nBefore we proceed any further, hear me speak.\\n\\nAll:\\nSpeak, speak.\\n\\nFirst Citizen:\\nYou '\n"
          ],
          "name": "stdout"
        }
      ]
    },
    {
      "cell_type": "code",
      "metadata": {
        "id": "3eXcEWQXPXD-",
        "colab_type": "code",
        "colab": {}
      },
      "source": [
        "# a function to split the sequence into data and label by mapping\n",
        "def split_data_label(seq):\n",
        "    data = seq[:-1]\n",
        "    label = seq[1:]\n",
        "    return data, label\n",
        "\n",
        "split_sequence = sequence.map(split_data_label)"
      ],
      "execution_count": 10,
      "outputs": []
    },
    {
      "cell_type": "code",
      "metadata": {
        "id": "1pt2TeJn24yu",
        "colab_type": "code",
        "colab": {
          "base_uri": "https://localhost:8080/",
          "height": 51
        },
        "outputId": "3727a992-468d-4f39-b0a8-9c7e3f5c6fb5"
      },
      "source": [
        "for input_text, target_text in split_sequence.take(1):\n",
        "    print(\"Input: \", repr(\"\".join(all_chars[input_text])))\n",
        "    print(\"Output:\", repr(\"\".join(all_chars[target_text])))"
      ],
      "execution_count": 11,
      "outputs": [
        {
          "output_type": "stream",
          "text": [
            "Input:  'First Citizen:\\nBefore we proceed any further, hear me speak.\\n\\nAll:\\nSpeak, speak.\\n\\nFirst Citizen:\\nYou'\n",
            "Output: 'irst Citizen:\\nBefore we proceed any further, hear me speak.\\n\\nAll:\\nSpeak, speak.\\n\\nFirst Citizen:\\nYou '\n"
          ],
          "name": "stdout"
        }
      ]
    },
    {
      "cell_type": "code",
      "metadata": {
        "id": "Lst4RN-RrtSS",
        "colab_type": "code",
        "colab": {
          "base_uri": "https://localhost:8080/",
          "height": 272
        },
        "outputId": "67525fae-f156-42ed-c587-eb51d2846154"
      },
      "source": [
        "for input_idx, target_idx in zip(input_text[:5], target_text[:5]):\n",
        "    print(f\"Input text:     {repr(idx2char[input_idx.numpy()])}({input_idx.numpy()})\")\n",
        "    print(f\"Expected text:  {repr(idx2char[target_idx.numpy()])}({target_idx.numpy()})\")\n",
        "    print()"
      ],
      "execution_count": 12,
      "outputs": [
        {
          "output_type": "stream",
          "text": [
            "Input text:     'F'(18)\n",
            "Expected text:  'i'(47)\n",
            "\n",
            "Input text:     'i'(47)\n",
            "Expected text:  'r'(56)\n",
            "\n",
            "Input text:     'r'(56)\n",
            "Expected text:  's'(57)\n",
            "\n",
            "Input text:     's'(57)\n",
            "Expected text:  't'(58)\n",
            "\n",
            "Input text:     't'(58)\n",
            "Expected text:  ' '(1)\n",
            "\n"
          ],
          "name": "stdout"
        }
      ]
    },
    {
      "cell_type": "code",
      "metadata": {
        "id": "wzWqtepVuL_Y",
        "colab_type": "code",
        "colab": {}
      },
      "source": [
        "BUFFER = 10000\n",
        "BATCH_SIZE = 64\n",
        "\n",
        "VOCAB_SIZE = len(all_chars)\n",
        "\n",
        "EMBEDDING_DIM = 100\n",
        "RNN_UNITS = 1024\n"
      ],
      "execution_count": 13,
      "outputs": []
    },
    {
      "cell_type": "code",
      "metadata": {
        "id": "VE0DI_56PWSo",
        "colab_type": "code",
        "colab": {}
      },
      "source": [
        "# shuffle and batch the data for training\n",
        "train_data = split_sequence.shuffle(BUFFER).batch(BATCH_SIZE, drop_remainder=True)"
      ],
      "execution_count": 14,
      "outputs": []
    },
    {
      "cell_type": "code",
      "metadata": {
        "id": "dltx09hIeC7W",
        "colab_type": "code",
        "colab": {}
      },
      "source": [
        "# build model with embedding, gru and dense layer\n",
        "def build_model(vocab_size, embedding_dim, rnn_units, batch_size):\n",
        "    model = k.Sequential([\n",
        "            k.layers.Embedding(vocab_size, embedding_dim, batch_input_shape=[batch_size, None]),\n",
        "            k.layers.GRU(rnn_units, return_sequences=True, stateful=True, recurrent_initializer='glorot_uniform'),\n",
        "            k.layers.Dense(vocab_size),\n",
        "    ])\n",
        "    model.summary()\n",
        "    return model"
      ],
      "execution_count": 15,
      "outputs": []
    },
    {
      "cell_type": "code",
      "metadata": {
        "id": "4pm5zi-Pvfg1",
        "colab_type": "code",
        "colab": {
          "base_uri": "https://localhost:8080/",
          "height": 255
        },
        "outputId": "58d71219-eb88-4d3c-c2a7-d752454b306a"
      },
      "source": [
        "model = build_model(VOCAB_SIZE, EMBEDDING_DIM, RNN_UNITS, BATCH_SIZE)"
      ],
      "execution_count": 16,
      "outputs": [
        {
          "output_type": "stream",
          "text": [
            "Model: \"sequential\"\n",
            "_________________________________________________________________\n",
            "Layer (type)                 Output Shape              Param #   \n",
            "=================================================================\n",
            "embedding (Embedding)        (64, None, 100)           6500      \n",
            "_________________________________________________________________\n",
            "gru (GRU)                    (64, None, 1024)          3459072   \n",
            "_________________________________________________________________\n",
            "dense (Dense)                (64, None, 65)            66625     \n",
            "=================================================================\n",
            "Total params: 3,532,197\n",
            "Trainable params: 3,532,197\n",
            "Non-trainable params: 0\n",
            "_________________________________________________________________\n"
          ],
          "name": "stdout"
        }
      ]
    },
    {
      "cell_type": "code",
      "metadata": {
        "id": "c7tuBv4vzknL",
        "colab_type": "code",
        "colab": {
          "base_uri": "https://localhost:8080/",
          "height": 34
        },
        "outputId": "1c7954f1-caf7-4d19-ef63-c41c5216094c"
      },
      "source": [
        "for iptext, optext in train_data.take(1):\n",
        "    dry_prediction = model(iptext)\n",
        "    print(f\"Shape of prediction {dry_prediction.shape}\")"
      ],
      "execution_count": 17,
      "outputs": [
        {
          "output_type": "stream",
          "text": [
            "Shape of prediction (64, 100, 65)\n"
          ],
          "name": "stdout"
        }
      ]
    },
    {
      "cell_type": "code",
      "metadata": {
        "id": "GfB5bGniVmnS",
        "colab_type": "code",
        "colab": {
          "base_uri": "https://localhost:8080/",
          "height": 187
        },
        "outputId": "76a32906-c061-4677-bea3-51cca483d839"
      },
      "source": [
        "print(f\"Input text:\\n{''.join([idx2char[idx] for idx in iptext[0].numpy()])}\\n\")\n",
        "print(f\"Dry prediction:\\n{''.join([idx2char[idx] for idx in dry_prediction[0].numpy().argmax(axis=1)])}\")"
      ],
      "execution_count": 18,
      "outputs": [
        {
          "output_type": "stream",
          "text": [
            "Input text:\n",
            "Your princely father and my loving lord!\n",
            "\n",
            "EDWARD:\n",
            "O, speak no more, for I have heard too much.\n",
            "\n",
            "RICH\n",
            "\n",
            "Dry prediction:\n",
            ",Dymm$FmT3dwSW33Veded3333gFVwNaZTF3wNFnnn'vu3?suM'WudddddVV3'VNNF,,d3zFFP3e33dddddFv3ezzNNe3dsgg''ll\n"
          ],
          "name": "stdout"
        }
      ]
    },
    {
      "cell_type": "code",
      "metadata": {
        "id": "Aqb4uC2oXA7t",
        "colab_type": "code",
        "colab": {
          "base_uri": "https://localhost:8080/",
          "height": 34
        },
        "outputId": "56ae3575-ad70-4679-93bf-b54649ba940e"
      },
      "source": [
        "def loss(labels, logits):\n",
        "    return tf.keras.losses.sparse_categorical_crossentropy(labels, logits, from_logits=True)\n",
        "\n",
        "print(f\"Dry prediction loss: {loss(optext, dry_prediction).numpy().mean()}\")"
      ],
      "execution_count": 19,
      "outputs": [
        {
          "output_type": "stream",
          "text": [
            "Dry prediction loss: 4.173456192016602\n"
          ],
          "name": "stdout"
        }
      ]
    },
    {
      "cell_type": "code",
      "metadata": {
        "id": "nnAa6rPgaL-M",
        "colab_type": "code",
        "colab": {}
      },
      "source": [
        "model.compile(optimizer='adam', loss=loss)"
      ],
      "execution_count": 20,
      "outputs": []
    },
    {
      "cell_type": "code",
      "metadata": {
        "id": "UjOlR_4wah-Y",
        "colab_type": "code",
        "colab": {}
      },
      "source": [
        "import os\n",
        "\n",
        "check_pt_dir = './check_pt'\n",
        "check_pt_file_fmt = os.path.join(check_pt_dir, 'check_{epoch}')\n",
        "\n",
        "check_pt = k.callbacks.ModelCheckpoint(check_pt_file_fmt, save_weights_only=True)"
      ],
      "execution_count": 21,
      "outputs": []
    },
    {
      "cell_type": "code",
      "metadata": {
        "id": "RLdzpzUFbBWR",
        "colab_type": "code",
        "colab": {
          "base_uri": "https://localhost:8080/",
          "height": 1000
        },
        "outputId": "df3ccb29-37ff-45ab-b790-3c2c2b0560c8"
      },
      "source": [
        "model.fit(train_data, epochs=30, callbacks=[check_pt])"
      ],
      "execution_count": 22,
      "outputs": [
        {
          "output_type": "stream",
          "text": [
            "Epoch 1/30\n",
            "172/172 [==============================] - 7s 41ms/step - loss: 2.8282\n",
            "Epoch 2/30\n",
            "172/172 [==============================] - 7s 40ms/step - loss: 2.0945\n",
            "Epoch 3/30\n",
            "172/172 [==============================] - 7s 40ms/step - loss: 1.8104\n",
            "Epoch 4/30\n",
            "172/172 [==============================] - 7s 40ms/step - loss: 1.6341\n",
            "Epoch 5/30\n",
            "172/172 [==============================] - 7s 40ms/step - loss: 1.5259\n",
            "Epoch 6/30\n",
            "172/172 [==============================] - 7s 41ms/step - loss: 1.4527\n",
            "Epoch 7/30\n",
            "172/172 [==============================] - 7s 40ms/step - loss: 1.3997\n",
            "Epoch 8/30\n",
            "172/172 [==============================] - 7s 40ms/step - loss: 1.3555\n",
            "Epoch 9/30\n",
            "172/172 [==============================] - 7s 40ms/step - loss: 1.3184\n",
            "Epoch 10/30\n",
            "172/172 [==============================] - 7s 40ms/step - loss: 1.2844\n",
            "Epoch 11/30\n",
            "172/172 [==============================] - 7s 40ms/step - loss: 1.2504\n",
            "Epoch 12/30\n",
            "172/172 [==============================] - 7s 40ms/step - loss: 1.2178\n",
            "Epoch 13/30\n",
            "172/172 [==============================] - 7s 41ms/step - loss: 1.1852\n",
            "Epoch 14/30\n",
            "172/172 [==============================] - 7s 40ms/step - loss: 1.1529\n",
            "Epoch 15/30\n",
            "172/172 [==============================] - 7s 40ms/step - loss: 1.1182\n",
            "Epoch 16/30\n",
            "172/172 [==============================] - 7s 40ms/step - loss: 1.0845\n",
            "Epoch 17/30\n",
            "172/172 [==============================] - 7s 40ms/step - loss: 1.0472\n",
            "Epoch 18/30\n",
            "172/172 [==============================] - 7s 40ms/step - loss: 1.0114\n",
            "Epoch 19/30\n",
            "172/172 [==============================] - 7s 40ms/step - loss: 0.9747\n",
            "Epoch 20/30\n",
            "172/172 [==============================] - 7s 40ms/step - loss: 0.9398\n",
            "Epoch 21/30\n",
            "172/172 [==============================] - 7s 40ms/step - loss: 0.9045\n",
            "Epoch 22/30\n",
            "172/172 [==============================] - 7s 40ms/step - loss: 0.8722\n",
            "Epoch 23/30\n",
            "172/172 [==============================] - 7s 41ms/step - loss: 0.8421\n",
            "Epoch 24/30\n",
            "172/172 [==============================] - 7s 40ms/step - loss: 0.8140\n",
            "Epoch 25/30\n",
            "172/172 [==============================] - 7s 40ms/step - loss: 0.7895\n",
            "Epoch 26/30\n",
            "172/172 [==============================] - 7s 40ms/step - loss: 0.7693\n",
            "Epoch 27/30\n",
            "172/172 [==============================] - 7s 40ms/step - loss: 0.7487\n",
            "Epoch 28/30\n",
            "172/172 [==============================] - 7s 40ms/step - loss: 0.7290\n",
            "Epoch 29/30\n",
            "172/172 [==============================] - 7s 40ms/step - loss: 0.7154\n",
            "Epoch 30/30\n",
            "172/172 [==============================] - 7s 40ms/step - loss: 0.7013\n"
          ],
          "name": "stdout"
        },
        {
          "output_type": "execute_result",
          "data": {
            "text/plain": [
              "<tensorflow.python.keras.callbacks.History at 0x7fb0006f8470>"
            ]
          },
          "metadata": {
            "tags": []
          },
          "execution_count": 22
        }
      ]
    },
    {
      "cell_type": "code",
      "metadata": {
        "id": "l2qTwKjUbtNF",
        "colab_type": "code",
        "colab": {
          "base_uri": "https://localhost:8080/",
          "height": 255
        },
        "outputId": "608e8aea-beee-4042-ff9a-d1c8f0c08352"
      },
      "source": [
        "# loading checkpoint and reseting input from batch to single input\n",
        "model_new = build_model(VOCAB_SIZE, EMBEDDING_DIM, RNN_UNITS, batch_size=1)\n",
        "model_new.load_weights(tf.train.latest_checkpoint(check_pt_dir))\n",
        "model_new.build(tf.TensorShape([1, None]))"
      ],
      "execution_count": 23,
      "outputs": [
        {
          "output_type": "stream",
          "text": [
            "Model: \"sequential_1\"\n",
            "_________________________________________________________________\n",
            "Layer (type)                 Output Shape              Param #   \n",
            "=================================================================\n",
            "embedding_1 (Embedding)      (1, None, 100)            6500      \n",
            "_________________________________________________________________\n",
            "gru_1 (GRU)                  (1, None, 1024)           3459072   \n",
            "_________________________________________________________________\n",
            "dense_1 (Dense)              (1, None, 65)             66625     \n",
            "=================================================================\n",
            "Total params: 3,532,197\n",
            "Trainable params: 3,532,197\n",
            "Non-trainable params: 0\n",
            "_________________________________________________________________\n"
          ],
          "name": "stdout"
        }
      ]
    },
    {
      "cell_type": "code",
      "metadata": {
        "id": "Go25nZ8VsUMV",
        "colab_type": "code",
        "colab": {}
      },
      "source": [
        "def predict_text(model, start_text):\n",
        "    sequence = [char2idx[s] for s in start_text]\n",
        "    sequence = tf.expand_dims(sequence, 0)\n",
        "\n",
        "    generated_text = []\n",
        "    num_text = 200\n",
        "    temp = 1.0\n",
        "    model.reset_states()\n",
        "    for _ in range(num_text):\n",
        "        pred = model(sequence)\n",
        "        pred = tf.squeeze(pred, 0)\n",
        "        pred = pred / temp\n",
        "        pred = tf.random.categorical(pred, num_samples=1)[-1,0].numpy()\n",
        "        sequence = tf.expand_dims([pred], 0)\n",
        "        generated_text.append(idx2char[pred])\n",
        "        # print(idx2char[pred])\n",
        "    print(start_text + \"\".join(generated_text))"
      ],
      "execution_count": 24,
      "outputs": []
    },
    {
      "cell_type": "code",
      "metadata": {
        "id": "ey6jXQ8vRQPc",
        "colab_type": "code",
        "colab": {
          "base_uri": "https://localhost:8080/",
          "height": 153
        },
        "outputId": "15cd8e57-c032-45c0-a858-d75c25358afe"
      },
      "source": [
        "predict_text(model_new, \"Romeo:\") # 10 epoch"
      ],
      "execution_count": 26,
      "outputs": [
        {
          "output_type": "stream",
          "text": [
            "Romeo: as highness is at his.\n",
            "\n",
            "KING RICHARD III:\n",
            "But to your lordship will than they were. But least a Roman through\n",
            "A mother place and deach, and what means he is, erentley say it is.\n",
            "\n",
            "NORTHUMBERLAND:\n",
            "He s\n"
          ],
          "name": "stdout"
        }
      ]
    },
    {
      "cell_type": "code",
      "metadata": {
        "id": "CbSevJ1ivjpF",
        "colab_type": "code",
        "colab": {
          "base_uri": "https://localhost:8080/",
          "height": 170
        },
        "outputId": "07113803-2aaa-4c53-a7a7-fc83713d4470"
      },
      "source": [
        "predict_text(model_new, \"Romeo:\") # 30 epoch"
      ],
      "execution_count": 25,
      "outputs": [
        {
          "output_type": "stream",
          "text": [
            "Romeo:\n",
            "Of that sheard spread suspicion, as\n",
            "no loding wrong:\n",
            "Some she privilege divide, as it\n",
            "was so fitting their absolver.\n",
            "\n",
            "ELBOW:\n",
            "Commend me to the occasion how having those whose that I provided\n",
            "As is th\n"
          ],
          "name": "stdout"
        }
      ]
    },
    {
      "cell_type": "code",
      "metadata": {
        "id": "r_qHf5b1yrat",
        "colab_type": "code",
        "colab": {
          "base_uri": "https://localhost:8080/",
          "height": 255
        },
        "outputId": "a02461cf-c42a-4b2a-ba4d-16fa12ad7f82"
      },
      "source": [
        "# custom training loop\n",
        "model_other = build_model(VOCAB_SIZE, EMBEDDING_DIM, RNN_UNITS, BATCH_SIZE)"
      ],
      "execution_count": 51,
      "outputs": [
        {
          "output_type": "stream",
          "text": [
            "Model: \"sequential_3\"\n",
            "_________________________________________________________________\n",
            "Layer (type)                 Output Shape              Param #   \n",
            "=================================================================\n",
            "embedding_3 (Embedding)      (64, None, 100)           6500      \n",
            "_________________________________________________________________\n",
            "gru_3 (GRU)                  (64, None, 1024)          3459072   \n",
            "_________________________________________________________________\n",
            "dense_3 (Dense)              (64, None, 65)            66625     \n",
            "=================================================================\n",
            "Total params: 3,532,197\n",
            "Trainable params: 3,532,197\n",
            "Non-trainable params: 0\n",
            "_________________________________________________________________\n"
          ],
          "name": "stdout"
        }
      ]
    },
    {
      "cell_type": "code",
      "metadata": {
        "id": "aOOcHF9rYLlN",
        "colab_type": "code",
        "colab": {}
      },
      "source": [
        "check_pt_dir_other = './check_pt_other'\n",
        "check_pt_file_other_fmt = os.path.join(check_pt_dir_other, 'check_{epoch}')"
      ],
      "execution_count": 52,
      "outputs": []
    },
    {
      "cell_type": "code",
      "metadata": {
        "id": "z6YYs1LzzPjr",
        "colab_type": "code",
        "colab": {}
      },
      "source": [
        "optimizer = tf.keras.optimizers.Adam()\n",
        "loss_fn = lambda true, pred: tf.reduce_mean(tf.keras.losses.sparse_categorical_crossentropy(true, pred, from_logits=True))"
      ],
      "execution_count": 53,
      "outputs": []
    },
    {
      "cell_type": "code",
      "metadata": {
        "id": "qaVp1duVzjeI",
        "colab_type": "code",
        "colab": {}
      },
      "source": [
        "@tf.function\n",
        "def train(ipt, opt):\n",
        "    with tf.GradientTape() as tape:\n",
        "        predict = model_other(ipt)\n",
        "        loss = loss_fn(opt, predict)\n",
        "    grads = tape.gradient(loss, model_other.trainable_variables)\n",
        "    optimizer.apply_gradients(zip(grads, model_other.trainable_variables))\n",
        "    return loss"
      ],
      "execution_count": 54,
      "outputs": []
    },
    {
      "cell_type": "code",
      "metadata": {
        "id": "ZxME-L1ITv5b",
        "colab_type": "code",
        "colab": {
          "base_uri": "https://localhost:8080/",
          "height": 765
        },
        "outputId": "5bcfdd7e-1224-4acc-c235-3fc9b0edf472"
      },
      "source": [
        "import time\n",
        "# for evey epoch\n",
        "EPOCH = 10\n",
        "for ep in range(1, EPOCH+1):\n",
        "    # start timer and reset model state\n",
        "    start = time.time()\n",
        "    model_other.reset_states()\n",
        "    # enumerate datase and get ip and tgt\n",
        "    for idx, (ipt, tgt) in enumerate(train_data):\n",
        "        # call train mth and get loss\n",
        "        loss = train(ipt, tgt)\n",
        "        # for every 100th batch print epoch, batch and losss\n",
        "        if not idx % 100:\n",
        "            print(f\"Epoch {ep} Batch {idx} loss: {loss}\")\n",
        "    # save model wts every 5 epoch\n",
        "    if not ep % 5:\n",
        "        print(\"Saving model wts...\")\n",
        "        model_other.save_weights(check_pt_file_other_fmt.format(epoch=ep))\n",
        "    # print epoch loss and time taken\n",
        "    print(f\"Epoch {ep} time taken {int(time.time() - start)}s loss: {loss}\\n\")\n",
        "# save wts\n",
        "model_other.save_weights(check_pt_file_other_fmt.format(epoch=ep))"
      ],
      "execution_count": 50,
      "outputs": [
        {
          "output_type": "stream",
          "text": [
            "Epoch 1 Batch 0 loss: 0.987172544002533\n",
            "Epoch 1 Batch 100 loss: 1.082219123840332\n",
            "Epoch 1 time taken 9s loss: 1.0874640941619873\n",
            "\n",
            "Epoch 2 Batch 0 loss: 0.942598283290863\n",
            "Epoch 2 Batch 100 loss: 1.0414557456970215\n",
            "Epoch 2 time taken 9s loss: 1.0571722984313965\n",
            "\n",
            "Epoch 3 Batch 0 loss: 0.9457034468650818\n",
            "Epoch 3 Batch 100 loss: 0.9817665219306946\n",
            "Epoch 3 time taken 9s loss: 1.014931321144104\n",
            "\n",
            "Epoch 4 Batch 0 loss: 0.8751521110534668\n",
            "Epoch 4 Batch 100 loss: 0.9925789833068848\n",
            "Epoch 4 time taken 9s loss: 1.0095241069793701\n",
            "\n",
            "Epoch 5 Batch 0 loss: 0.855405867099762\n",
            "Epoch 5 Batch 100 loss: 0.9215734601020813\n",
            "Saving model wts...\n",
            "\n",
            "Epoch 5 time taken 9s loss: 0.9686150550842285\n",
            "\n",
            "Epoch 6 Batch 0 loss: 0.8056967854499817\n",
            "Epoch 6 Batch 100 loss: 0.903012216091156\n",
            "Epoch 6 time taken 9s loss: 0.9309359788894653\n",
            "\n",
            "Epoch 7 Batch 0 loss: 0.7813970446586609\n",
            "Epoch 7 Batch 100 loss: 0.8896231055259705\n",
            "Epoch 7 time taken 9s loss: 0.8960713744163513\n",
            "\n",
            "Epoch 8 Batch 0 loss: 0.7353395223617554\n",
            "Epoch 8 Batch 100 loss: 0.8500643968582153\n",
            "Epoch 8 time taken 9s loss: 0.8639634847640991\n",
            "\n",
            "Epoch 9 Batch 0 loss: 0.7020078897476196\n",
            "Epoch 9 Batch 100 loss: 0.8073357939720154\n",
            "Epoch 9 time taken 9s loss: 0.8481216430664062\n",
            "\n",
            "Epoch 10 Batch 0 loss: 0.7031678557395935\n",
            "Epoch 10 Batch 100 loss: 0.793924868106842\n",
            "Saving model wts...\n",
            "\n",
            "Epoch 10 time taken 9s loss: 0.8072704076766968\n",
            "\n"
          ],
          "name": "stdout"
        }
      ]
    },
    {
      "cell_type": "code",
      "metadata": {
        "id": "Ctl_OTlkZLzu",
        "colab_type": "code",
        "colab": {
          "base_uri": "https://localhost:8080/",
          "height": 255
        },
        "outputId": "fcb392f1-7d0e-4ee1-9008-cb5bd315c719"
      },
      "source": [
        "# loading checkpoint and reseting input from batch to single input\n",
        "model_other_new = build_model(VOCAB_SIZE, EMBEDDING_DIM, RNN_UNITS, batch_size=1)\n",
        "model_other_new.load_weights(tf.train.latest_checkpoint(check_pt_dir_other))\n",
        "model_other_new.build(tf.TensorShape([1, None]))"
      ],
      "execution_count": 57,
      "outputs": [
        {
          "output_type": "stream",
          "text": [
            "Model: \"sequential_5\"\n",
            "_________________________________________________________________\n",
            "Layer (type)                 Output Shape              Param #   \n",
            "=================================================================\n",
            "embedding_5 (Embedding)      (1, None, 100)            6500      \n",
            "_________________________________________________________________\n",
            "gru_5 (GRU)                  (1, None, 1024)           3459072   \n",
            "_________________________________________________________________\n",
            "dense_5 (Dense)              (1, None, 65)             66625     \n",
            "=================================================================\n",
            "Total params: 3,532,197\n",
            "Trainable params: 3,532,197\n",
            "Non-trainable params: 0\n",
            "_________________________________________________________________\n"
          ],
          "name": "stdout"
        }
      ]
    },
    {
      "cell_type": "code",
      "metadata": {
        "id": "MS9jKu0IbSML",
        "colab_type": "code",
        "colab": {
          "base_uri": "https://localhost:8080/",
          "height": 170
        },
        "outputId": "79c8c405-c97e-44f8-d03e-2d3d68c44095"
      },
      "source": [
        "predict_text(model_other_new, \"Romeo:\")"
      ],
      "execution_count": 58,
      "outputs": [
        {
          "output_type": "stream",
          "text": [
            "Romeo:\n",
            "By the stooping but against the outorn him,\n",
            "His discovered join, with cripportary\n",
            "My man turns to quench my country, and our hearts\n",
            "Should ne'er be cured by the charge.\n",
            "\n",
            "First Gentleman:\n",
            "Where lius?\n",
            "\n"
          ],
          "name": "stdout"
        }
      ]
    },
    {
      "cell_type": "code",
      "metadata": {
        "id": "z5Pxty3jblHY",
        "colab_type": "code",
        "colab": {}
      },
      "source": [
        ""
      ],
      "execution_count": null,
      "outputs": []
    }
  ]
}